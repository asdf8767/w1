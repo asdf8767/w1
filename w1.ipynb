{
 "cells": [
  {
   "cell_type": "code",
   "execution_count": 21,
   "id": "6d9c6a73",
   "metadata": {},
   "outputs": [],
   "source": [
    "import requests\n",
    "import bs4\n",
    "import pandas as pd\n"
   ]
  },
  {
   "cell_type": "code",
   "execution_count": 22,
   "id": "7ccd28d2",
   "metadata": {},
   "outputs": [
    {
     "name": "stdout",
     "output_type": "stream",
     "text": [
      "Enter your url : https://www.flipkart.com/autokraftz-sun-uv-protection-arm-sleeves-stretchable-material-riding-sports-cycling-gloves/p/itmdbdf28e22676b?pid=SGEF6ZBBZQUDHVG3&lid=LSTSGEF6ZBBZQUDHVG37E4PSF&marketplace=FLIPKART&store=search.flipkart.com&srno=b_1_19&otracker=browse&fm=organic&iid=2ec72868-7171-4967-86df-096016692ee7.SGEF6ZBBZQUDHVG3.SEARCH&ppt=None&ppn=None&ssid=15az7207400000001685003913352\n"
     ]
    }
   ],
   "source": [
    "url=input(\"Enter your url : \")\n",
    "url=requests.get(url)"
   ]
  },
  {
   "cell_type": "code",
   "execution_count": 23,
   "id": "26ce471d",
   "metadata": {},
   "outputs": [],
   "source": [
    "# url.content"
   ]
  },
  {
   "cell_type": "code",
   "execution_count": 24,
   "id": "6c5350d4",
   "metadata": {},
   "outputs": [],
   "source": [
    "soup=bs4.BeautifulSoup(url.text)"
   ]
  },
  {
   "cell_type": "code",
   "execution_count": 25,
   "id": "dfe120d8",
   "metadata": {},
   "outputs": [
    {
     "name": "stdout",
     "output_type": "stream",
     "text": [
      "['Satisfied with the product. Good quality and soft too, harmless to use.READ MORE', \"It is so fantastic... The fit was just perfect , When I ordered the free size I don't get satisfied because I think'ed It was Not going to fit me perfectly .. But Now after Wearing it I get maximum level of satisfaction , The cloth is too good Nice one must buy 👍READ MORE\", \"Good product.. it's skin friendly, protect u from UV rays . Good quality and must expandable..it gives the cool Sencetation on Wearing.You can go for this amazing product...READ MORE\", \"Stretchable Nylon fabric is of very good quality, after stretching it while wearing I never had the fear of nearly tearing it unintentionally as the material quality was reliable. Free size can be stretched as needed.I usually wear half sleeve t-shirt, and I get skin tan beyond sleeves upto the wrist/fingers mainly because of bike riding. So I needed such a thing to protect my hands.I recommend this to anyone who doesn't want cotton fabric but nylon or lycra. Go for it!Good Packaging, Free...READ MORE\", \"Not bad at this price range but it's best suitable for winter time . overall it is good product . Thank you flipkart 🙏READ MORE\", 'Good product.. Great comfort... Very useful while playing football and basketball.. especially during sunny days..It can also be used while riding..Gives great protection from the sunREAD MORE', 'Very very nice super and football sleeves super very nice gripREAD MORE', 'Really nice product .... just got in 114 - ..... I love this product ... Super awesome quality and the design too is best ...... I am very happy because I am bought.....thank you flipkartREAD MORE', \"IT'S very helpful and very smooth glove.  ...  Really good item   .if u think buy this product then don't West ur time ....  Such a good productREAD MORE\", \"Perfect for the bikers. It helps to protect you from the harmful sun rays and prevents tan. It's stylish and looks good with any bikeWorth a buy for the budgetREAD MORE\"]\n"
     ]
    }
   ],
   "source": [
    "reviews_array = []\n",
    "reviews=soup.findAll('div',{'class':'t-ZTKy'});\n",
    "for reviews in reviews:\n",
    "#     print(reviews.get_text()+\"\\n\")\n",
    "    reviews_array.append(reviews.get_text())\n",
    "print(reviews_array)\n",
    "    \n",
    "    \n",
    "   \n",
    "\n"
   ]
  },
  {
   "cell_type": "code",
   "execution_count": 33,
   "id": "ac66bb7a",
   "metadata": {},
   "outputs": [
    {
     "name": "stdout",
     "output_type": "stream",
     "text": [
      "['3.9★']\n"
     ]
    }
   ],
   "source": [
    "rating=[soup.find('div',{'class':'col-12-12 _1azcI6'}).get_text()]\n",
    "print(rating)"
   ]
  },
  {
   "cell_type": "code",
   "execution_count": 27,
   "id": "237c12df",
   "metadata": {},
   "outputs": [
    {
     "name": "stdout",
     "output_type": "stream",
     "text": [
      "['5', '5', '5', '5', '3', '3', '5', '4', '5', '5']\n"
     ]
    }
   ],
   "source": [
    "# individual_rating=soup.findAll('div',{'class':'_3LWZlK _1BLPMq'});\n",
    "# for indi_rating in individual_rating:\n",
    "#     print(indi_rating.get_text()+'\\n')\n",
    "\n",
    "individual_ratings_array = []\n",
    "\n",
    "individual_ratings = soup.findAll('div', {'class': '_3LWZlK _1BLPMq'})\n",
    "for indi_rating in individual_ratings:\n",
    "    rating_text = indi_rating.get_text()\n",
    "    individual_ratings_array.append(rating_text)\n",
    "\n",
    "print(individual_ratings_array)"
   ]
  },
  {
   "cell_type": "code",
   "execution_count": 28,
   "id": "9f0bf149",
   "metadata": {},
   "outputs": [
    {
     "name": "stdout",
     "output_type": "stream",
     "text": [
      "['Lohit BP Pednekar', 'Sanwhi Ray', 'SOHAM NAYAK', 'Nadeem Ahmed Shaikh', 'Nare Sh', 'KELVIN PATRIC MELVIN', 'Flipkart Customer', 'Rohit  Gupta', 'Patel Parthik', 'Pankaj Khanna']\n"
     ]
    }
   ],
   "source": [
    "# customer_name=soup.findAll('p',{'class':'_2sc7ZR _2V5EHH'});\n",
    "# for cust_name in customer_name:\n",
    "#     print(cust_name.get_text()+\"\\n\")\n",
    "\n",
    "\n",
    "customer_names_array = []\n",
    "\n",
    "customer_names = soup.findAll('p', {'class': '_2sc7ZR _2V5EHH'})\n",
    "for cust_name in customer_names:\n",
    "    name_text = cust_name.get_text()\n",
    "    customer_names_array.append(name_text)\n",
    "\n",
    "print(customer_names_array)"
   ]
  },
  {
   "cell_type": "code",
   "execution_count": 29,
   "id": "6de1ce41",
   "metadata": {},
   "outputs": [
    {
     "name": "stdout",
     "output_type": "stream",
     "text": [
      "['Become a Seller']\n"
     ]
    }
   ],
   "source": [
    "#it uses for tag\n",
    "tag=[]\n",
    "tag=[soup.find('span',{'class':''}).get_text()]\n",
    "# tag.append(tag)\n",
    "print(tag)\n"
   ]
  },
  {
   "cell_type": "code",
   "execution_count": 35,
   "id": "fb7464dd",
   "metadata": {},
   "outputs": [
    {
     "data": {
      "text/html": [
       "<div>\n",
       "<style scoped>\n",
       "    .dataframe tbody tr th:only-of-type {\n",
       "        vertical-align: middle;\n",
       "    }\n",
       "\n",
       "    .dataframe tbody tr th {\n",
       "        vertical-align: top;\n",
       "    }\n",
       "\n",
       "    .dataframe thead th {\n",
       "        text-align: right;\n",
       "    }\n",
       "</style>\n",
       "<table border=\"1\" class=\"dataframe\">\n",
       "  <thead>\n",
       "    <tr style=\"text-align: right;\">\n",
       "      <th></th>\n",
       "      <th>Unnamed: 0</th>\n",
       "      <th>rating</th>\n",
       "      <th>individual_ratings</th>\n",
       "      <th>customer_names</th>\n",
       "      <th>reviews</th>\n",
       "      <th>tag</th>\n",
       "    </tr>\n",
       "  </thead>\n",
       "  <tbody>\n",
       "    <tr>\n",
       "      <th>0</th>\n",
       "      <td>0</td>\n",
       "      <td>3.9★</td>\n",
       "      <td>5</td>\n",
       "      <td>Lohit BP Pednekar</td>\n",
       "      <td>Satisfied with the product. Good quality and s...</td>\n",
       "      <td>Become a Seller</td>\n",
       "    </tr>\n",
       "    <tr>\n",
       "      <th>1</th>\n",
       "      <td>1</td>\n",
       "      <td>NaN</td>\n",
       "      <td>5</td>\n",
       "      <td>Sanwhi Ray</td>\n",
       "      <td>It is so fantastic... The fit was just perfect...</td>\n",
       "      <td>NaN</td>\n",
       "    </tr>\n",
       "    <tr>\n",
       "      <th>2</th>\n",
       "      <td>2</td>\n",
       "      <td>NaN</td>\n",
       "      <td>5</td>\n",
       "      <td>SOHAM NAYAK</td>\n",
       "      <td>Good product.. it's skin friendly, protect u f...</td>\n",
       "      <td>NaN</td>\n",
       "    </tr>\n",
       "    <tr>\n",
       "      <th>3</th>\n",
       "      <td>3</td>\n",
       "      <td>NaN</td>\n",
       "      <td>5</td>\n",
       "      <td>Nadeem Ahmed Shaikh</td>\n",
       "      <td>Stretchable Nylon fabric is of very good quali...</td>\n",
       "      <td>NaN</td>\n",
       "    </tr>\n",
       "    <tr>\n",
       "      <th>4</th>\n",
       "      <td>4</td>\n",
       "      <td>NaN</td>\n",
       "      <td>3</td>\n",
       "      <td>Nare Sh</td>\n",
       "      <td>Not bad at this price range but it's best suit...</td>\n",
       "      <td>NaN</td>\n",
       "    </tr>\n",
       "    <tr>\n",
       "      <th>5</th>\n",
       "      <td>5</td>\n",
       "      <td>NaN</td>\n",
       "      <td>3</td>\n",
       "      <td>KELVIN PATRIC MELVIN</td>\n",
       "      <td>Good product.. Great comfort... Very useful wh...</td>\n",
       "      <td>NaN</td>\n",
       "    </tr>\n",
       "    <tr>\n",
       "      <th>6</th>\n",
       "      <td>6</td>\n",
       "      <td>NaN</td>\n",
       "      <td>5</td>\n",
       "      <td>Flipkart Customer</td>\n",
       "      <td>Very very nice super and football sleeves supe...</td>\n",
       "      <td>NaN</td>\n",
       "    </tr>\n",
       "    <tr>\n",
       "      <th>7</th>\n",
       "      <td>7</td>\n",
       "      <td>NaN</td>\n",
       "      <td>4</td>\n",
       "      <td>Rohit  Gupta</td>\n",
       "      <td>Really nice product .... just got in 114 - ......</td>\n",
       "      <td>NaN</td>\n",
       "    </tr>\n",
       "    <tr>\n",
       "      <th>8</th>\n",
       "      <td>8</td>\n",
       "      <td>NaN</td>\n",
       "      <td>5</td>\n",
       "      <td>Patel Parthik</td>\n",
       "      <td>IT'S very helpful and very smooth glove.  ... ...</td>\n",
       "      <td>NaN</td>\n",
       "    </tr>\n",
       "    <tr>\n",
       "      <th>9</th>\n",
       "      <td>9</td>\n",
       "      <td>NaN</td>\n",
       "      <td>5</td>\n",
       "      <td>Pankaj Khanna</td>\n",
       "      <td>Perfect for the bikers. It helps to protect yo...</td>\n",
       "      <td>NaN</td>\n",
       "    </tr>\n",
       "  </tbody>\n",
       "</table>\n",
       "</div>"
      ],
      "text/plain": [
       "   Unnamed: 0 rating  individual_ratings        customer_names  \\\n",
       "0           0   3.9★                   5     Lohit BP Pednekar   \n",
       "1           1    NaN                   5            Sanwhi Ray   \n",
       "2           2    NaN                   5           SOHAM NAYAK   \n",
       "3           3    NaN                   5   Nadeem Ahmed Shaikh   \n",
       "4           4    NaN                   3               Nare Sh   \n",
       "5           5    NaN                   3  KELVIN PATRIC MELVIN   \n",
       "6           6    NaN                   5     Flipkart Customer   \n",
       "7           7    NaN                   4          Rohit  Gupta   \n",
       "8           8    NaN                   5         Patel Parthik   \n",
       "9           9    NaN                   5         Pankaj Khanna   \n",
       "\n",
       "                                             reviews              tag  \n",
       "0  Satisfied with the product. Good quality and s...  Become a Seller  \n",
       "1  It is so fantastic... The fit was just perfect...              NaN  \n",
       "2  Good product.. it's skin friendly, protect u f...              NaN  \n",
       "3  Stretchable Nylon fabric is of very good quali...              NaN  \n",
       "4  Not bad at this price range but it's best suit...              NaN  \n",
       "5  Good product.. Great comfort... Very useful wh...              NaN  \n",
       "6  Very very nice super and football sleeves supe...              NaN  \n",
       "7  Really nice product .... just got in 114 - ......              NaN  \n",
       "8  IT'S very helpful and very smooth glove.  ... ...              NaN  \n",
       "9  Perfect for the bikers. It helps to protect yo...              NaN  "
      ]
     },
     "execution_count": 35,
     "metadata": {},
     "output_type": "execute_result"
    }
   ],
   "source": [
    "\n",
    "\n",
    "max_length = max(len(reviews_array), len(individual_ratings_array), len(customer_names_array),len(tag))\n",
    "\n",
    "reviews_array += [None] * (max_length - len(reviews_array))\n",
    "individual_ratings_array += [None] * (max_length - len(individual_ratings_array))\n",
    "customer_names_array += [None] * (max_length - len(customer_names_array))\n",
    "tag += [None] * (max_length - len(tag))\n",
    "rating += [None] * (max_length - len(rating))\n",
    "\n",
    "# Create a DataFrame from the columns\n",
    "data = {\n",
    "    'rating': rating,\n",
    "    'individual_ratings': individual_ratings_array,\n",
    "    'customer_names': customer_names_array,\n",
    "    'reviews': reviews_array,\n",
    "    'tag': tag,\n",
    "}\n",
    "df = pd.DataFrame(data)\n",
    "\n",
    "# Write data to CSV file\n",
    "df.to_csv('data.csv')\n",
    "pd.read_csv('data.csv')"
   ]
  },
  {
   "cell_type": "code",
   "execution_count": null,
   "id": "d1beba0c",
   "metadata": {},
   "outputs": [],
   "source": []
  }
 ],
 "metadata": {
  "kernelspec": {
   "display_name": "Python 3 (ipykernel)",
   "language": "python",
   "name": "python3"
  },
  "language_info": {
   "codemirror_mode": {
    "name": "ipython",
    "version": 3
   },
   "file_extension": ".py",
   "mimetype": "text/x-python",
   "name": "python",
   "nbconvert_exporter": "python",
   "pygments_lexer": "ipython3",
   "version": "3.9.7"
  }
 },
 "nbformat": 4,
 "nbformat_minor": 5
}
